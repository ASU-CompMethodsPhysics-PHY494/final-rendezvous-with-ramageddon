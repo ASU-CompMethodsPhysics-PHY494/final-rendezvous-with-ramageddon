{
 "cells": [
  {
   "cell_type": "code",
   "execution_count": 4,
   "metadata": {
    "collapsed": false
   },
   "outputs": [],
   "source": [
    "import rama\n",
    "import numpy as np"
   ]
  },
  {
   "cell_type": "code",
   "execution_count": 10,
   "metadata": {
    "collapsed": false
   },
   "outputs": [],
   "source": [
    "r = np.ones((8,3))\n",
    "masses = np.ones(8)*10"
   ]
  },
  {
   "cell_type": "code",
   "execution_count": 17,
   "metadata": {
    "collapsed": false
   },
   "outputs": [],
   "source": [
    "for i in range(len(r)):\n",
    "    r[i,:] *= i"
   ]
  },
  {
   "cell_type": "code",
   "execution_count": 20,
   "metadata": {
    "collapsed": false
   },
   "outputs": [],
   "source": [
    "force, u = rama.gravity(r,masses)"
   ]
  },
  {
   "cell_type": "code",
   "execution_count": 22,
   "metadata": {
    "collapsed": false
   },
   "outputs": [
    {
     "data": {
      "text/plain": [
       "array([[-1148.6067094 , -1148.6067094 , -1148.6067094 ],\n",
       "       [ -373.3388512 ,  -373.3388512 ,  -373.3388512 ],\n",
       "       [ -162.29371203,  -162.29371203,  -162.29371203],\n",
       "       [  -47.48515631,   -47.48515631,   -47.48515631],\n",
       "       [   47.48515631,    47.48515631,    47.48515631],\n",
       "       [  162.29371203,   162.29371203,   162.29371203],\n",
       "       [  373.3388512 ,   373.3388512 ,   373.3388512 ],\n",
       "       [ 1148.6067094 ,  1148.6067094 ,  1148.6067094 ]])"
      ]
     },
     "execution_count": 22,
     "metadata": {},
     "output_type": "execute_result"
    }
   ],
   "source": [
    "force"
   ]
  },
  {
   "cell_type": "code",
   "execution_count": null,
   "metadata": {
    "collapsed": true
   },
   "outputs": [],
   "source": []
  }
 ],
 "metadata": {
  "kernelspec": {
   "display_name": "Python 3",
   "language": "python",
   "name": "python3"
  },
  "language_info": {
   "codemirror_mode": {
    "name": "ipython",
    "version": 3
   },
   "file_extension": ".py",
   "mimetype": "text/x-python",
   "name": "python",
   "nbconvert_exporter": "python",
   "pygments_lexer": "ipython3",
   "version": "3.5.1"
  }
 },
 "nbformat": 4,
 "nbformat_minor": 0
}
